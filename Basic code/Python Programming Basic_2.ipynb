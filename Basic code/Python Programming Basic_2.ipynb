{
 "cells": [
  {
   "cell_type": "markdown",
   "id": "005dd62a",
   "metadata": {},
   "source": [
    "#### Write a Python program to convert kilometers to miles?"
   ]
  },
  {
   "cell_type": "code",
   "execution_count": 2,
   "id": "6cc4e297",
   "metadata": {},
   "outputs": [
    {
     "name": "stdout",
     "output_type": "stream",
     "text": [
      "Enter value in kilometers: 10\n",
      "10.00 kilometers is equal to 6.21 miles\n"
     ]
    }
   ],
   "source": [
    "kms = float(input(\"Enter value in kilometers: \"))\n",
    "\n",
    "# conversion factor\n",
    "cf = 0.621371\n",
    "\n",
    "miles = kms * cf\n",
    "print('%0.2f kilometers is equal to %0.2f miles' %(kms,miles))"
   ]
  },
  {
   "cell_type": "markdown",
   "id": "d458f332",
   "metadata": {},
   "source": [
    "#### Write a Python program to convert Celsius to Fahrenheit?"
   ]
  },
  {
   "cell_type": "code",
   "execution_count": 9,
   "id": "a3d766b5",
   "metadata": {},
   "outputs": [
    {
     "name": "stdout",
     "output_type": "stream",
     "text": [
      "Enter value of Celsius: 23\n",
      "23.0 degree Celsius is equal to 73.4 degree Fahrenheit\n"
     ]
    }
   ],
   "source": [
    "cel= float(input(\"Enter value of Celsius: \"))\n",
    "\n",
    "fahrenheit = (cel * 1.8) + 32\n",
    "print('%0.1f degree Celsius is equal to %0.1f degree Fahrenheit' %(cel,fahrenheit))"
   ]
  },
  {
   "cell_type": "markdown",
   "id": "b7266f5d",
   "metadata": {},
   "source": [
    "#### Write a Python program to display calendar?"
   ]
  },
  {
   "cell_type": "code",
   "execution_count": 8,
   "id": "e7d47391",
   "metadata": {},
   "outputs": [
    {
     "name": "stdout",
     "output_type": "stream",
     "text": [
      "Enter year: 2022\n",
      "Enter month: 2\n",
      "   February 2022\n",
      "Mo Tu We Th Fr Sa Su\n",
      "    1  2  3  4  5  6\n",
      " 7  8  9 10 11 12 13\n",
      "14 15 16 17 18 19 20\n",
      "21 22 23 24 25 26 27\n",
      "28\n",
      "\n"
     ]
    }
   ],
   "source": [
    "import calendar  \n",
    "\n",
    "y = int(input(\"Enter year: \"))  \n",
    "m = int(input(\"Enter month: \"))  \n",
    "  \n",
    "\n",
    "print(calendar.month(y,m))  "
   ]
  },
  {
   "cell_type": "markdown",
   "id": "6cd10a2b",
   "metadata": {},
   "source": [
    "#### Write a Python program to solve quadratic equation?"
   ]
  },
  {
   "cell_type": "code",
   "execution_count": 11,
   "id": "00080bb8",
   "metadata": {},
   "outputs": [
    {
     "name": "stdout",
     "output_type": "stream",
     "text": [
      "Enter a: 12\n",
      "Enter b: 55\n",
      "Enter c: 55\n",
      "The solution are (-3.109225702931191+0j) and (-1.4741076304021423+0j)\n"
     ]
    }
   ],
   "source": [
    "import cmath  \n",
    "a = float(input('Enter a: '))  \n",
    "b = float(input('Enter b: '))  \n",
    "c = float(input('Enter c: '))  \n",
    "  \n",
    "\n",
    "d = (b**2) - (4*a*c)  \n",
    "  \n",
    "  \n",
    "sol1 = (-b-cmath.sqrt(d))/(2*a)  \n",
    "sol2 = (-b+cmath.sqrt(d))/(2*a)  \n",
    "print('The solution are {0} and {1}'.format(sol1,sol2))  "
   ]
  },
  {
   "cell_type": "markdown",
   "id": "192af297",
   "metadata": {},
   "source": [
    "#### Write a Python program to swap two variables without temp variable?"
   ]
  },
  {
   "cell_type": "code",
   "execution_count": 13,
   "id": "70614eda",
   "metadata": {},
   "outputs": [
    {
     "name": "stdout",
     "output_type": "stream",
     "text": [
      "Enter first number: 10\n",
      "Enter second number: 20\n",
      "Old value of a is 10 and b is 20\n",
      "New value of a is 20 and b is 10\n"
     ]
    }
   ],
   "source": [
    "a= int(input(\"Enter first number: \"))\n",
    "b= int(input(\"Enter second number: \"))\n",
    "\n",
    "print('Old value of a is {0} and b is {1}'.format(a, b))\n",
    "\n",
    "a = a + b\n",
    "b = a - b\n",
    "a = a -b\n",
    "\n",
    "\n",
    "print('New value of a is {0} and b is {1}'.format(a, b))"
   ]
  }
 ],
 "metadata": {
  "kernelspec": {
   "display_name": "Python 3 (ipykernel)",
   "language": "python",
   "name": "python3"
  },
  "language_info": {
   "codemirror_mode": {
    "name": "ipython",
    "version": 3
   },
   "file_extension": ".py",
   "mimetype": "text/x-python",
   "name": "python",
   "nbconvert_exporter": "python",
   "pygments_lexer": "ipython3",
   "version": "3.9.7"
  }
 },
 "nbformat": 4,
 "nbformat_minor": 5
}
